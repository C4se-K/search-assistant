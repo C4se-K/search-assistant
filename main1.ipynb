{
 "cells": [
  {
   "cell_type": "code",
   "execution_count": 1,
   "metadata": {},
   "outputs": [
    {
     "name": "stderr",
     "output_type": "stream",
     "text": [
      "c:\\Users\\Kmaed\\AppData\\Local\\Programs\\Python\\Python312\\Lib\\site-packages\\tqdm\\auto.py:21: TqdmWarning: IProgress not found. Please update jupyter and ipywidgets. See https://ipywidgets.readthedocs.io/en/stable/user_install.html\n",
      "  from .autonotebook import tqdm as notebook_tqdm\n"
     ]
    }
   ],
   "source": [
    "from faster_whisper import WhisperModel\n",
    "from scipy.signal import resample\n",
    "from dotenv import load_dotenv\n",
    "import numpy as np\n",
    "import threading\n",
    "import asyncio\n",
    "import socket\n",
    "import queue\n",
    "import time\n",
    "import math\n",
    "import wave\n",
    "import os \n",
    "\n",
    "from interface_discord_pycord import Discord_Interface\n",
    "from transcription import Transcription_Manager\n",
    "\n",
    "\n",
    "\n",
    "\n",
    "from collections import deque\n",
    "import numpy as np\n",
    "\n",
    "import webrtcvad\n",
    "vad = webrtcvad.Vad(2)\n",
    "\n",
    "buffer = deque(maxlen=32000)\n",
    "default_buffer_size = 16000\n",
    "speech_active = False\n",
    "\n"
   ]
  },
  {
   "cell_type": "code",
   "execution_count": 2,
   "metadata": {},
   "outputs": [],
   "source": [
    "def preprocess_decoded(data, original_sample_rate = 48000):\n",
    "    #convert bytes to numpy array\n",
    "    audio = np.frombuffer(data, dtype = np.int16)\n",
    "\n",
    "    #convert to mono if stereo\n",
    "    if len(audio) % 2 ==0:\n",
    "        audio = audio.reshape(-1, 2)\n",
    "        audio = np.mean(audio, axis = 1).astype(np.int16)\n",
    "    else:\n",
    "        raise ValueError(\"cannot interpret as stereo\")\n",
    "    \n",
    "    #covert to 16000 hz\n",
    "    if original_sample_rate != target_bits_per_sample:\n",
    "        num_samples = int(len(audio) * (target_sample_rate / original_sample_rate))\n",
    "        audio = resample(audio, num_samples).astype(np.int16)\n",
    "    \n",
    "    return audio\n",
    "\n",
    "\n"
   ]
  },
  {
   "cell_type": "code",
   "execution_count": 3,
   "metadata": {},
   "outputs": [
    {
     "name": "stdout",
     "output_type": "stream",
     "text": [
      "[MAIN] general parameters took 0.00 seconds to start\n",
      "[MAIN] faster-whisper took 2.62 seconds to start\n"
     ]
    }
   ],
   "source": [
    "\n",
    "\"\"\"\n",
    "\n",
    "VAR setup\n",
    "\n",
    "\"\"\"\n",
    "start_time = time.time()\n",
    "\n",
    "#general\n",
    "raw_audio_queue = queue.Queue()\n",
    "command_queue = queue.Queue()\n",
    "\n",
    "\n",
    "#bot\n",
    "load_dotenv()\n",
    "ACCESS_TOKEN = os.getenv(\"ACCESS_TOKEN\")\n",
    "\n",
    "#audio\n",
    "target_sample_rate = 16000\n",
    "target_channels = 1\n",
    "target_bits_per_sample = 16\n",
    "\n",
    "buffer = bytearray()\n",
    "target_size = target_sample_rate * 2 #target sample rate is 16000 -> *2 = 32000,  2 seconds\n",
    "\n",
    "print(f\"[MAIN] general parameters took {(time.time() - start_time):.2f} seconds to start\")\n",
    "\n",
    "\"\"\"\n",
    "\n",
    "faster-whisper model setup\n",
    "\n",
    "\"\"\"\n",
    "start_time = time.time()\n",
    "\n",
    "\n",
    "#model parameters\n",
    "model_size = \"large-v3\"\n",
    "os.environ[\"KMP_DUPLICATE_LIB_OK\"] = \"TRUE\"\n",
    "\n",
    "model = WhisperModel(model_size, device=\"cuda\", compute_type=\"float16\")\n",
    "print(f\"[MAIN] faster-whisper took {(time.time() - start_time):.2f} seconds to start\")\n",
    "\n",
    "#ts = Transcription_Manger(raw_audio_queue)\n",
    "\n",
    "\n"
   ]
  },
  {
   "cell_type": "code",
   "execution_count": null,
   "metadata": {},
   "outputs": [],
   "source": [
    "\"\"\"\n",
    "\n",
    "discord bot setup\n",
    "\n",
    "\"\"\"\n",
    "start_time = time.time()\n",
    "\n",
    "\n",
    "#interface discord bot\n",
    "bot_ready = threading.Event()\n",
    "\n",
    "bot = Discord_Interface(raw_audio_queue, command_queue, bot_ready)\n",
    "threading.Thread(target=bot.run_, args = (ACCESS_TOKEN,), daemon=True).start()\n",
    "\n",
    "#wait for bot to start\n",
    "bot_ready.wait()\n",
    "print(f\"[MAIN] discord interface bot took {(time.time() - start_time):.2f} seconds to start\")\n",
    "start_time = time.time()\n",
    "\n",
    "\n",
    "\n",
    "audio_queue = queue.Queue()\n",
    "transcription_list = []\n",
    "buffer_count = 0\n",
    "buffer_store = []\n",
    "\n",
    "buffer = bytearray()\n",
    "target_size = 2 * 16000\n",
    "\n",
    "l = 0\n",
    "\n",
    "buffer_ready = False\n",
    "\n",
    "print('[MAIN] all systems nominal')"
   ]
  },
  {
   "cell_type": "code",
   "execution_count": null,
   "metadata": {},
   "outputs": [],
   "source": []
  },
  {
   "cell_type": "code",
   "execution_count": null,
   "metadata": {},
   "outputs": [],
   "source": []
  }
 ],
 "metadata": {
  "kernelspec": {
   "display_name": "Python 3",
   "language": "python",
   "name": "python3"
  },
  "language_info": {
   "codemirror_mode": {
    "name": "ipython",
    "version": 3
   },
   "file_extension": ".py",
   "mimetype": "text/x-python",
   "name": "python",
   "nbconvert_exporter": "python",
   "pygments_lexer": "ipython3",
   "version": "3.12.5"
  }
 },
 "nbformat": 4,
 "nbformat_minor": 2
}
